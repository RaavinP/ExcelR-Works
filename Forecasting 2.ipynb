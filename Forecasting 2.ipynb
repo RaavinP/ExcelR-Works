{
 "cells": [
  {
   "cell_type": "code",
   "execution_count": 1,
   "id": "3a32eada",
   "metadata": {
    "ExecuteTime": {
     "end_time": "2021-12-29T06:48:59.698839Z",
     "start_time": "2021-12-29T06:48:59.682831Z"
    }
   },
   "outputs": [
    {
     "name": "stderr",
     "output_type": "stream",
     "text": [
      "C:\\Users\\Raavin\\anaconda3\\lib\\site-packages\\scipy\\__init__.py:146: UserWarning: A NumPy version >=1.16.5 and <1.23.0 is required for this version of SciPy (detected version 1.26.0\n",
      "  warnings.warn(f\"A NumPy version >={np_minversion} and <{np_maxversion}\"\n"
     ]
    }
   ],
   "source": [
    "# Importing necessary libraries\n",
    "import numpy as np\n",
    "import pandas as pd\n",
    "from statsmodels.tsa.seasonal import seasonal_decompose\n",
    "import matplotlib.pyplot as plt\n",
    "import seaborn as sns"
   ]
  },
  {
   "cell_type": "code",
   "execution_count": 2,
   "id": "7e788627",
   "metadata": {
    "ExecuteTime": {
     "end_time": "2021-12-29T06:49:56.266747Z",
     "start_time": "2021-12-29T06:49:41.942825Z"
    }
   },
   "outputs": [],
   "source": [
    "coke= pd.read_excel(\"CocaCola_Sales_Rawdata.xlsx\")"
   ]
  },
  {
   "cell_type": "code",
   "execution_count": 3,
   "id": "91f07c94",
   "metadata": {
    "ExecuteTime": {
     "end_time": "2021-12-29T06:50:00.328056Z",
     "start_time": "2021-12-29T06:50:00.145577Z"
    }
   },
   "outputs": [
    {
     "data": {
      "text/html": [
       "<div>\n",
       "<style scoped>\n",
       "    .dataframe tbody tr th:only-of-type {\n",
       "        vertical-align: middle;\n",
       "    }\n",
       "\n",
       "    .dataframe tbody tr th {\n",
       "        vertical-align: top;\n",
       "    }\n",
       "\n",
       "    .dataframe thead th {\n",
       "        text-align: right;\n",
       "    }\n",
       "</style>\n",
       "<table border=\"1\" class=\"dataframe\">\n",
       "  <thead>\n",
       "    <tr style=\"text-align: right;\">\n",
       "      <th></th>\n",
       "      <th>Quarter</th>\n",
       "      <th>Sales</th>\n",
       "    </tr>\n",
       "  </thead>\n",
       "  <tbody>\n",
       "    <tr>\n",
       "      <th>0</th>\n",
       "      <td>Q1_86</td>\n",
       "      <td>1734.827000</td>\n",
       "    </tr>\n",
       "    <tr>\n",
       "      <th>1</th>\n",
       "      <td>Q2_86</td>\n",
       "      <td>2244.960999</td>\n",
       "    </tr>\n",
       "    <tr>\n",
       "      <th>2</th>\n",
       "      <td>Q3_86</td>\n",
       "      <td>2533.804993</td>\n",
       "    </tr>\n",
       "    <tr>\n",
       "      <th>3</th>\n",
       "      <td>Q4_86</td>\n",
       "      <td>2154.962997</td>\n",
       "    </tr>\n",
       "    <tr>\n",
       "      <th>4</th>\n",
       "      <td>Q1_87</td>\n",
       "      <td>1547.818996</td>\n",
       "    </tr>\n",
       "  </tbody>\n",
       "</table>\n",
       "</div>"
      ],
      "text/plain": [
       "  Quarter        Sales\n",
       "0   Q1_86  1734.827000\n",
       "1   Q2_86  2244.960999\n",
       "2   Q3_86  2533.804993\n",
       "3   Q4_86  2154.962997\n",
       "4   Q1_87  1547.818996"
      ]
     },
     "execution_count": 3,
     "metadata": {},
     "output_type": "execute_result"
    }
   ],
   "source": [
    "coke.head()"
   ]
  },
  {
   "cell_type": "code",
   "execution_count": 4,
   "id": "fc040b8d",
   "metadata": {
    "ExecuteTime": {
     "end_time": "2021-12-29T06:50:19.440395Z",
     "start_time": "2021-12-29T06:50:19.424797Z"
    }
   },
   "outputs": [
    {
     "data": {
      "text/plain": [
       "(42, 2)"
      ]
     },
     "execution_count": 4,
     "metadata": {},
     "output_type": "execute_result"
    }
   ],
   "source": [
    "coke.shape"
   ]
  },
  {
   "cell_type": "code",
   "execution_count": 5,
   "id": "93ba39c1",
   "metadata": {
    "ExecuteTime": {
     "end_time": "2021-12-29T06:50:44.197755Z",
     "start_time": "2021-12-29T06:50:44.031085Z"
    }
   },
   "outputs": [
    {
     "data": {
      "text/plain": [
       "Quarter    0\n",
       "Sales      0\n",
       "dtype: int64"
      ]
     },
     "execution_count": 5,
     "metadata": {},
     "output_type": "execute_result"
    }
   ],
   "source": [
    "coke.isnull().sum()"
   ]
  },
  {
   "cell_type": "code",
   "execution_count": 6,
   "id": "a6841ff3",
   "metadata": {
    "ExecuteTime": {
     "end_time": "2021-12-29T06:50:59.303346Z",
     "start_time": "2021-12-29T06:50:56.628877Z"
    }
   },
   "outputs": [
    {
     "data": {
      "text/plain": [
       "<seaborn.axisgrid.PairGrid at 0x209e9e6ed30>"
      ]
     },
     "execution_count": 6,
     "metadata": {},
     "output_type": "execute_result"
    },
    {
     "data": {
      "image/png": "[encoded data removed]",
      "text/plain": [
       "<Figure size 180x180 with 2 Axes>"
      ]
     },
     "metadata": {
      "needs_background": "light"
     },
     "output_type": "display_data"
    }
   ],
   "source": [
    "import seaborn as sns\n",
    "sns.pairplot(coke)"
   ]
  },
  {
   "cell_type": "code",
   "execution_count": 7,
   "id": "2f049e7d",
   "metadata": {
    "ExecuteTime": {
     "end_time": "2021-12-29T06:51:17.314506Z",
     "start_time": "2021-12-29T06:51:16.016614Z"
    }
   },
   "outputs": [
    {
     "data": {
      "text/plain": [
       "<AxesSubplot:>"
      ]
     },
     "execution_count": 7,
     "metadata": {},
     "output_type": "execute_result"
    },
    {
     "data": {
      "image/png": "[encoded data removed]",
      "text/plain": [
       "<Figure size 432x288 with 1 Axes>"
      ]
     },
     "metadata": {
      "needs_background": "light"
     },
     "output_type": "display_data"
    }
   ],
   "source": [
    "coke.Sales.plot()"
   ]
  },
  {
   "cell_type": "code",
   "execution_count": 8,
   "id": "74d689f3",
   "metadata": {
    "ExecuteTime": {
     "end_time": "2021-12-29T06:51:55.866358Z",
     "start_time": "2021-12-29T06:51:55.618480Z"
    }
   },
   "outputs": [
    {
     "name": "stderr",
     "output_type": "stream",
     "text": [
      "C:\\Users\\Raavin\\AppData\\Local\\Temp\\ipykernel_2984\\950706326.py:5: SettingWithCopyWarning: \n",
      "A value is trying to be set on a copy of a slice from a DataFrame\n",
      "\n",
      "See the caveats in the documentation: https://pandas.pydata.org/pandas-docs/stable/user_guide/indexing.html#returning-a-view-versus-a-copy\n",
      "  coke['Quarters'][i]= p[0:2]\n",
      "C:\\Users\\Raavin\\AppData\\Local\\Temp\\ipykernel_2984\\950706326.py:6: SettingWithCopyWarning: \n",
      "A value is trying to be set on a copy of a slice from a DataFrame\n",
      "\n",
      "See the caveats in the documentation: https://pandas.pydata.org/pandas-docs/stable/user_guide/indexing.html#returning-a-view-versus-a-copy\n",
      "  coke['Year'][i]= p[3:5]\n"
     ]
    }
   ],
   "source": [
    "coke['Quarters']= 0\n",
    "coke['Year'] = 0\n",
    "for i in range(42):\n",
    "    p = coke[\"Quarter\"][i]\n",
    "    coke['Quarters'][i]= p[0:2]\n",
    "    coke['Year'][i]= p[3:5]"
   ]
  },
  {
   "cell_type": "code",
   "execution_count": 9,
   "id": "b76c241f",
   "metadata": {
    "ExecuteTime": {
     "end_time": "2021-12-29T06:52:12.359448Z",
     "start_time": "2021-12-29T06:52:12.279440Z"
    }
   },
   "outputs": [],
   "source": [
    "# Prepring dummies \n",
    "Quarters_Dummies = pd.DataFrame(pd.get_dummies(coke['Quarters']))\n",
    "coke1 = pd.concat([coke,Quarters_Dummies],axis = 1)"
   ]
  },
  {
   "cell_type": "code",
   "execution_count": 10,
   "id": "ae44a82c",
   "metadata": {
    "ExecuteTime": {
     "end_time": "2021-12-29T06:55:29.156967Z",
     "start_time": "2021-12-29T06:55:29.140963Z"
    }
   },
   "outputs": [],
   "source": [
    "coke1[\"t\"]=np.arange(1,43)"
   ]
  },
  {
   "cell_type": "code",
   "execution_count": 11,
   "id": "71eeed91",
   "metadata": {
    "ExecuteTime": {
     "end_time": "2021-12-29T06:55:30.278877Z",
     "start_time": "2021-12-29T06:55:30.254869Z"
    }
   },
   "outputs": [
    {
     "data": {
      "text/plain": [
       "Index(['Quarter', 'Sales', 'Quarters', 'Year', 'Q1', 'Q2', 'Q3', 'Q4', 't',\n",
       "       't_squared'],\n",
       "      dtype='object')"
      ]
     },
     "execution_count": 11,
     "metadata": {},
     "output_type": "execute_result"
    }
   ],
   "source": [
    "coke1[\"t_squared\"] = coke1[\"t\"]*coke1[\"t\"]\n",
    "coke1.columns"
   ]
  },
  {
   "cell_type": "code",
   "execution_count": 12,
   "id": "0137b987",
   "metadata": {
    "ExecuteTime": {
     "end_time": "2021-12-29T06:55:31.615060Z",
     "start_time": "2021-12-29T06:55:31.599056Z"
    }
   },
   "outputs": [],
   "source": [
    "coke1[\"Log_Sales\"]=np.log(coke1[\"Sales\"])"
   ]
  },
  {
   "cell_type": "code",
   "execution_count": 13,
   "id": "1504507e",
   "metadata": {
    "ExecuteTime": {
     "end_time": "2021-12-29T06:55:34.170215Z",
     "start_time": "2021-12-29T06:55:32.793193Z"
    }
   },
   "outputs": [
    {
     "data": {
      "text/plain": [
       "<AxesSubplot:xlabel='Quarters', ylabel='Year'>"
      ]
     },
     "execution_count": 13,
     "metadata": {},
     "output_type": "execute_result"
    },
    {
     "data": {
      "image/png": "[encoded data removed]",
      "text/plain": [
       "<Figure size 864x720 with 2 Axes>"
      ]
     },
     "metadata": {
      "needs_background": "light"
     },
     "output_type": "display_data"
    }
   ],
   "source": [
    "# visualize the data\n",
    "\n",
    "plt.figure(figsize=(12,10))\n",
    "plot_month_y = pd.pivot_table(data = coke,values=\"Sales\",index=\"Year\",columns=\"Quarters\"\n",
    "                             ,aggfunc=\"mean\",fill_value=0)\n",
    "sns.heatmap(plot_month_y,annot=True,fmt = \"g\")"
   ]
  },
  {
   "cell_type": "code",
   "execution_count": 14,
   "id": "d7342b8a",
   "metadata": {
    "ExecuteTime": {
     "end_time": "2021-12-29T06:55:37.005244Z",
     "start_time": "2021-12-29T06:55:36.315310Z"
    }
   },
   "outputs": [
    {
     "data": {
      "text/plain": [
       "<AxesSubplot:xlabel='Year', ylabel='Sales'>"
      ]
     },
     "execution_count": 14,
     "metadata": {},
     "output_type": "execute_result"
    },
    {
     "data": {
      "image/png": "[encoded data removed]",
      "text/plain": [
       "<Figure size 432x288 with 1 Axes>"
      ]
     },
     "metadata": {
      "needs_background": "light"
     },
     "output_type": "display_data"
    }
   ],
   "source": [
    "sns.boxplot(x=\"Quarters\",y=\"Sales\",data=coke1)\n",
    "sns.boxplot(x=\"Year\",y=\"Sales\",data=coke1)"
   ]
  },
  {
   "cell_type": "code",
   "execution_count": 15,
   "id": "503bb2f7",
   "metadata": {
    "ExecuteTime": {
     "end_time": "2021-12-29T06:55:38.378405Z",
     "start_time": "2021-12-29T06:55:38.362401Z"
    }
   },
   "outputs": [],
   "source": [
    "Train = coke1.head(38)\n",
    "Test = coke1.tail(4)"
   ]
  },
  {
   "cell_type": "code",
   "execution_count": 17,
   "id": "f6b29731",
   "metadata": {
    "ExecuteTime": {
     "end_time": "2021-12-29T06:55:46.930982Z",
     "start_time": "2021-12-29T06:55:41.773657Z"
    }
   },
   "outputs": [
    {
     "data": {
      "text/plain": [
       "591.553295722396"
      ]
     },
     "execution_count": 17,
     "metadata": {},
     "output_type": "execute_result"
    }
   ],
   "source": [
    "# Linear model\n",
    "import statsmodels.formula.api as smf\n",
    "linear_model = smf.ols('Sales~t',data=Train).fit()\n",
    "pred_linear =  pd.Series(linear_model.predict(pd.DataFrame(Test['t'])))\n",
    "rmse_linear = np.sqrt(np.mean((np.array(Test['Sales'])-np.array(pred_linear))**2))\n",
    "rmse_linear"
   ]
  },
  {
   "cell_type": "code",
   "execution_count": 19,
   "id": "792e1325",
   "metadata": {
    "ExecuteTime": {
     "end_time": "2021-12-29T06:55:48.229477Z",
     "start_time": "2021-12-29T06:55:48.189455Z"
    }
   },
   "outputs": [
    {
     "data": {
      "text/plain": [
       "466.2479731067161"
      ]
     },
     "execution_count": 19,
     "metadata": {},
     "output_type": "execute_result"
    }
   ],
   "source": [
    "# Exponential\n",
    "Exp = smf.ols('Log_Sales~t',data=Train).fit()\n",
    "pred_Exp = pd.Series(Exp.predict(pd.DataFrame(Test['t'])))\n",
    "rmse_Exp = np.sqrt(np.mean((np.array(Test['Sales'])-np.array(np.exp(pred_Exp)))**2))\n",
    "rmse_Exp"
   ]
  },
  {
   "cell_type": "code",
   "execution_count": 22,
   "id": "a557eb20",
   "metadata": {
    "ExecuteTime": {
     "end_time": "2021-12-29T06:55:49.982364Z",
     "start_time": "2021-12-29T06:55:49.724570Z"
    }
   },
   "outputs": [
    {
     "data": {
      "text/plain": [
       "475.5618351831504"
      ]
     },
     "execution_count": 22,
     "metadata": {},
     "output_type": "execute_result"
    }
   ],
   "source": [
    "# Quadratic\n",
    "Quad = smf.ols('Sales~t+t_squared',data=Train).fit()\n",
    "pred_Quad = pd.Series(Quad.predict(Test[[\"t\",\"t_squared\"]]))\n",
    "rmse_Quad = np.sqrt(np.mean((np.array(Test['Sales'])-np.array(pred_Quad))**2))\n",
    "rmse_Quad"
   ]
  },
  {
   "cell_type": "code",
   "execution_count": 24,
   "id": "91e53a1e",
   "metadata": {
    "ExecuteTime": {
     "end_time": "2021-12-29T06:55:51.054507Z",
     "start_time": "2021-12-29T06:55:50.998484Z"
    }
   },
   "outputs": [
    {
     "data": {
      "text/plain": [
       "1860.0238154547274"
      ]
     },
     "execution_count": 24,
     "metadata": {},
     "output_type": "execute_result"
    }
   ],
   "source": [
    "# Additive seasonality\n",
    "add_sea = smf.ols('Sales~Q1+Q2+Q3',data=Train).fit()\n",
    "pred_add_sea = pd.Series(add_sea.predict(Test[['Q1','Q2','Q3']]))\n",
    "rmse_add_sea = np.sqrt(np.mean((np.array(Test['Sales'])-np.array(pred_add_sea))**2))\n",
    "rmse_add_sea"
   ]
  },
  {
   "cell_type": "code",
   "execution_count": 26,
   "id": "614e266e",
   "metadata": {
    "ExecuteTime": {
     "end_time": "2021-12-29T06:55:53.530858Z",
     "start_time": "2021-12-29T06:55:53.466851Z"
    }
   },
   "outputs": [
    {
     "data": {
      "text/plain": [
       "301.7380071934581"
      ]
     },
     "execution_count": 26,
     "metadata": {},
     "output_type": "execute_result"
    }
   ],
   "source": [
    "# Additive Seasonality Quadratic\n",
    "add_sea_Quad = smf.ols('Sales~t+t_squared+Q1+Q2+Q3',data=Train).fit()\n",
    "pred_add_sea_quad = pd.Series(add_sea_Quad.predict(Test[['Q1','Q2','Q3','t','t_squared']]))\n",
    "rmse_add_sea_quad = np.sqrt(np.mean((np.array(Test['Sales'])-np.array(pred_add_sea_quad))**2))\n",
    "rmse_add_sea_quad "
   ]
  },
  {
   "cell_type": "code",
   "execution_count": 27,
   "id": "fff6eae2",
   "metadata": {
    "ExecuteTime": {
     "end_time": "2021-12-29T06:55:55.130061Z",
     "start_time": "2021-12-29T06:55:55.082037Z"
    }
   },
   "outputs": [
    {
     "data": {
      "text/plain": [
       "1963.3896400779743"
      ]
     },
     "execution_count": 27,
     "metadata": {},
     "output_type": "execute_result"
    }
   ],
   "source": [
    "# Multiplicative Seasonality\n",
    "Mul_sea = smf.ols('Log_Sales~Q1+Q2+Q3',data = Train).fit()\n",
    "pred_Mult_sea = pd.Series(Mul_sea.predict(Test))\n",
    "rmse_Mult_sea = np.sqrt(np.mean((np.array(Test['Sales'])-np.array(np.exp(pred_Mult_sea)))**2))\n",
    "rmse_Mult_sea"
   ]
  },
  {
   "cell_type": "code",
   "execution_count": 30,
   "id": "66c95af7",
   "metadata": {
    "ExecuteTime": {
     "end_time": "2021-12-29T06:55:58.029845Z",
     "start_time": "2021-12-29T06:55:57.981837Z"
    }
   },
   "outputs": [
    {
     "data": {
      "text/plain": [
       "225.52439049818153"
      ]
     },
     "execution_count": 30,
     "metadata": {},
     "output_type": "execute_result"
    }
   ],
   "source": [
    "# Multiplicative Additive Seasonality\n",
    "Mul_Add_sea = smf.ols('Log_Sales~t+Q1+Q2+Q3',data = Train).fit()\n",
    "pred_Mult_add_sea = pd.Series(Mul_Add_sea.predict(Test))\n",
    "rmse_Mult_add_sea = np.sqrt(np.mean((np.array(Test['Sales'])-np.array(np.exp(pred_Mult_add_sea)))**2))\n",
    "rmse_Mult_add_sea "
   ]
  },
  {
   "cell_type": "code",
   "execution_count": 32,
   "id": "ac487354",
   "metadata": {
    "ExecuteTime": {
     "end_time": "2021-12-29T06:56:00.062799Z",
     "start_time": "2021-12-29T06:56:00.038795Z"
    }
   },
   "outputs": [
    {
     "data": {
      "text/html": [
       "<div>\n",
       "<style scoped>\n",
       "    .dataframe tbody tr th:only-of-type {\n",
       "        vertical-align: middle;\n",
       "    }\n",
       "\n",
       "    .dataframe tbody tr th {\n",
       "        vertical-align: top;\n",
       "    }\n",
       "\n",
       "    .dataframe thead th {\n",
       "        text-align: right;\n",
       "    }\n",
       "</style>\n",
       "<table border=\"1\" class=\"dataframe\">\n",
       "  <thead>\n",
       "    <tr style=\"text-align: right;\">\n",
       "      <th></th>\n",
       "      <th>MODEL</th>\n",
       "      <th>RMSE_Values</th>\n",
       "    </tr>\n",
       "  </thead>\n",
       "  <tbody>\n",
       "    <tr>\n",
       "      <th>0</th>\n",
       "      <td>rmse_linear</td>\n",
       "      <td>591.553296</td>\n",
       "    </tr>\n",
       "    <tr>\n",
       "      <th>1</th>\n",
       "      <td>rmse_Exp</td>\n",
       "      <td>466.247973</td>\n",
       "    </tr>\n",
       "    <tr>\n",
       "      <th>2</th>\n",
       "      <td>rmse_Quad</td>\n",
       "      <td>475.561835</td>\n",
       "    </tr>\n",
       "    <tr>\n",
       "      <th>3</th>\n",
       "      <td>rmse_add_sea</td>\n",
       "      <td>1860.023815</td>\n",
       "    </tr>\n",
       "    <tr>\n",
       "      <th>4</th>\n",
       "      <td>rmse_add_sea_quad</td>\n",
       "      <td>301.738007</td>\n",
       "    </tr>\n",
       "    <tr>\n",
       "      <th>5</th>\n",
       "      <td>rmse_Mult_sea</td>\n",
       "      <td>1963.389640</td>\n",
       "    </tr>\n",
       "    <tr>\n",
       "      <th>6</th>\n",
       "      <td>rmse_Mult_add_sea</td>\n",
       "      <td>225.524390</td>\n",
       "    </tr>\n",
       "  </tbody>\n",
       "</table>\n",
       "</div>"
      ],
      "text/plain": [
       "               MODEL  RMSE_Values\n",
       "0        rmse_linear   591.553296\n",
       "1           rmse_Exp   466.247973\n",
       "2          rmse_Quad   475.561835\n",
       "3       rmse_add_sea  1860.023815\n",
       "4  rmse_add_sea_quad   301.738007\n",
       "5      rmse_Mult_sea  1963.389640\n",
       "6  rmse_Mult_add_sea   225.524390"
      ]
     },
     "execution_count": 32,
     "metadata": {},
     "output_type": "execute_result"
    }
   ],
   "source": [
    "#tabulating the rmse values\n",
    "\n",
    "data = {\"MODEL\":pd.Series([\"rmse_linear\",\"rmse_Exp\",\"rmse_Quad\",\"rmse_add_sea\",\"rmse_add_sea_quad\",\"rmse_Mult_sea\",\"rmse_Mult_add_sea\"]),\"RMSE_Values\":pd.Series([rmse_linear,rmse_Exp,rmse_Quad,rmse_add_sea,rmse_add_sea_quad,rmse_Mult_sea,rmse_Mult_add_sea])}\n",
    "table_rmse=pd.DataFrame(data)\n",
    "table_rmse"
   ]
  },
  {
   "cell_type": "code",
   "execution_count": 33,
   "id": "8d0fbebd",
   "metadata": {},
   "outputs": [],
   "source": [
    "#225.52439049818733  \n",
    "# multiplicative additive seasonality is best model"
   ]
  },
  {
   "cell_type": "code",
   "execution_count": null,
   "id": "d3cffdf1",
   "metadata": {},
   "outputs": [],
   "source": []
  }
 ],
 "metadata": {
  "kernelspec": {
   "display_name": "Python 3 (ipykernel)",
   "language": "python",
   "name": "python3"
  },
  "language_info": {
   "codemirror_mode": {
    "name": "ipython",
    "version": 3
   },
   "file_extension": ".py",
   "mimetype": "text/x-python",
   "name": "python",
   "nbconvert_exporter": "python",
   "pygments_lexer": "ipython3",
   "version": "3.9.12"
  },
  "varInspector": {
   "cols": {
    "lenName": 16,
    "lenType": 16,
    "lenVar": 40
   },
   "kernels_config": {
    "python": {
     "delete_cmd_postfix": "",
     "delete_cmd_prefix": "del ",
     "library": "var_list.py",
     "varRefreshCmd": "print(var_dic_list())"
    },
    "r": {
     "delete_cmd_postfix": ") ",
     "delete_cmd_prefix": "rm(",
     "library": "var_list.r",
     "varRefreshCmd": "cat(var_dic_list()) "
    }
   },
   "types_to_exclude": [
    "module",
    "function",
    "builtin_function_or_method",
    "instance",
    "_Feature"
   ],
   "window_display": false
  }
 },
 "nbformat": 4,
 "nbformat_minor": 5
}
